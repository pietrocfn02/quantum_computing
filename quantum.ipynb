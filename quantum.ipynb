{
 "cells": [
  {
   "cell_type": "code",
   "execution_count": 2,
   "metadata": {},
   "outputs": [],
   "source": [
    "from sympy import *\n",
    "from sympy.physics.quantum import *\n",
    "from sympy.physics.quantum.qubit import Qubit,QubitBra\n",
    "init_printing() # to show vectors and matrices nicely\n",
    "from sympy.physics.quantum.gate import X,Y,Z,H,S,T,CNOT,SWAP,CPHASE,CGateS\n",
    "import numpy as np"
   ]
  },
  {
   "cell_type": "markdown",
   "metadata": {},
   "source": [
    "QFT"
   ]
  },
  {
   "cell_type": "markdown",
   "metadata": {},
   "source": [
    "To deepen our understanding of the quantum Fourier transform, let’s implement the circuit for n = 3 using SymPy."
   ]
  },
  {
   "cell_type": "markdown",
   "metadata": {},
   "source": [
    "First, the input to Fourier transform, $\\ket{x}$, is $\\ket{x} = \\sum_{j=0}^7 \\frac{1}{\\sqrt{8}} \\ket{j}$"
   ]
  },
  {
   "cell_type": "markdown",
   "metadata": {},
   "source": [
    "Fourier transform of the array corresponding to this state in a classical way is:"
   ]
  },
  {
   "cell_type": "code",
   "execution_count": 3,
   "metadata": {},
   "outputs": [
    {
     "name": "stdout",
     "output_type": "stream",
     "text": [
      "[0.35355339 0.35355339 0.35355339 0.35355339 0.35355339 0.35355339\n",
      " 0.35355339 0.35355339]\n",
      "[1.+0.j 0.+0.j 0.+0.j 0.+0.j 0.+0.j 0.+0.j 0.+0.j 0.+0.j]\n"
     ]
    }
   ],
   "source": [
    "\n",
    "input_np_array = 1/np.sqrt(8)*np.ones(8)\n",
    "print( input_np_array ) ## input\n",
    "print(np.fft.ifft(input_np_array) * np.sqrt(8) )\n",
    "#To match the definition of Fourier transform with the definition of ifft in numpy, multiply by sqrt(2^3)"
   ]
  },
  {
   "cell_type": "markdown",
   "metadata": {},
   "source": [
    "Let us verify this by quantum Fourier transform."
   ]
  },
  {
   "cell_type": "code",
   "execution_count": 4,
   "metadata": {},
   "outputs": [
    {
     "data": {
      "text/latex": [
       "$\\displaystyle \\frac{\\sqrt{2} \\left({\\left|000\\right\\rangle } + {\\left|001\\right\\rangle } + {\\left|010\\right\\rangle } + {\\left|011\\right\\rangle } + {\\left|100\\right\\rangle } + {\\left|101\\right\\rangle } + {\\left|110\\right\\rangle } + {\\left|111\\right\\rangle }\\right)}{4}$"
      ],
      "text/plain": [
       "√2⋅(❘000⟩ + ❘001⟩ + ❘010⟩ + ❘011⟩ + ❘100⟩ + ❘101⟩ + ❘110⟩ + ❘111⟩)\n",
       "──────────────────────────────────────────────────────────────────\n",
       "                                4                                 "
      ]
     },
     "execution_count": 4,
     "metadata": {},
     "output_type": "execute_result"
    }
   ],
   "source": [
    "input = 1/sqrt(8) *( Qubit(\"000\")+Qubit(\"001\")+Qubit(\"010\")+Qubit(\"011\")+Qubit(\"100\")+Qubit(\"101\")+Qubit(\"110\")+Qubit(\"111\"))\n",
    "input"
   ]
  },
  {
   "cell_type": "code",
   "execution_count": null,
   "metadata": {},
   "outputs": [],
   "source": []
  },
  {
   "cell_type": "markdown",
   "metadata": {},
   "source": [
    "Let's define $R_1$ $R_2$ e $R_3$ from the library with Z,S,T, respectively $e^{i\\pi} = -1$, $e^{i\\pi/2} = i$ e $e^{i\\pi/4}$"
   ]
  },
  {
   "cell_type": "code",
   "execution_count": 5,
   "metadata": {},
   "outputs": [
    {
     "data": {
      "text/latex": [
       "$\\displaystyle \\left( \\left[\\begin{matrix}1 & 0\\\\0 & -1\\end{matrix}\\right], \\  \\left[\\begin{matrix}1 & 0\\\\0 & i\\end{matrix}\\right], \\  \\left[\\begin{matrix}1 & 0\\\\0 & e^{\\frac{i \\pi}{4}}\\end{matrix}\\right]\\right)$"
      ],
      "text/plain": [
       "⎛                 ⎡1   0  ⎤⎞\n",
       "⎜                 ⎢       ⎥⎟\n",
       "⎜⎡1  0 ⎤  ⎡1  0⎤  ⎢    ⅈ⋅π⎥⎟\n",
       "⎜⎢     ⎥, ⎢    ⎥, ⎢    ───⎥⎟\n",
       "⎜⎣0  -1⎦  ⎣0  ⅈ⎦  ⎢     4 ⎥⎟\n",
       "⎝                 ⎣0  ℯ   ⎦⎠"
      ]
     },
     "execution_count": 5,
     "metadata": {},
     "output_type": "execute_result"
    }
   ],
   "source": [
    "represent(Z(0),nqubits=1), represent(S(0),nqubits=1), represent(T(0),nqubits=1)"
   ]
  },
  {
   "cell_type": "code",
   "execution_count": null,
   "metadata": {},
   "outputs": [],
   "source": []
  },
  {
   "cell_type": "markdown",
   "metadata": {},
   "source": [
    "We will construct a circuit that performs a quantum Fourier transform (we abbreviate Quantum Fourier Transform as QFT).\n",
    "First, we apply the Hadamard operator to the first (second in SymPy, since SymPy counts bits 0, 1, 2 from the right) qubit, and then apply $R_2$ e $R_3$ gates with the second and third bits as control bits."
   ]
  },
  {
   "cell_type": "code",
   "execution_count": 6,
   "metadata": {},
   "outputs": [],
   "source": [
    "QFT_gate = H(2)\n",
    "QFT_gate = CGateS(1, S(2))  * QFT_gate\n",
    "QFT_gate = CGateS(0, T(2))  * QFT_gate"
   ]
  },
  {
   "cell_type": "markdown",
   "metadata": {},
   "source": [
    "The second (first in SymPy) qubit is also subjected to the Hadamard gate $R_2$ and control operation."
   ]
  },
  {
   "cell_type": "code",
   "execution_count": 7,
   "metadata": {},
   "outputs": [],
   "source": [
    "QFT_gate = H(1)  * QFT_gate\n",
    "QFT_gate = CGateS(0, S(1))  * QFT_gate"
   ]
  },
  {
   "cell_type": "markdown",
   "metadata": {},
   "source": [
    "The third (0th in SymPy) qubit should only have an Hadamard gate applied."
   ]
  },
  {
   "cell_type": "code",
   "execution_count": 8,
   "metadata": {},
   "outputs": [],
   "source": [
    "QFT_gate = H(0)  * QFT_gate"
   ]
  },
  {
   "cell_type": "markdown",
   "metadata": {},
   "source": [
    "Finally, a SWAP gate is applied to match the order of the bits."
   ]
  },
  {
   "cell_type": "code",
   "execution_count": 10,
   "metadata": {},
   "outputs": [
    {
     "data": {
      "text/latex": [
       "$\\displaystyle \\text{SWAP}_{0,2}^{2} H_{0} C_{0}{\\left(S_{1}\\right)} H_{1} C_{0}{\\left(T_{2}\\right)} C_{1}{\\left(S_{2}\\right)} H_{2}$"
      ],
      "text/plain": [
       "         2                              \n",
       "⎛SWAP   ⎞ ⋅H ⋅C ⎛S ⎞⋅H ⋅C ⎛T ⎞⋅C ⎛S ⎞⋅H \n",
       "⎝    0,2⎠   0  0⎝ 1⎠  1  0⎝ 2⎠  1⎝ 2⎠  2"
      ]
     },
     "execution_count": 10,
     "metadata": {},
     "output_type": "execute_result"
    }
   ],
   "source": [
    "QFT_gate = SWAP(0, 2)  * QFT_gate\n",
    "QFT_gate"
   ]
  },
  {
   "cell_type": "code",
   "execution_count": 11,
   "metadata": {},
   "outputs": [
    {
     "data": {
      "text/latex": [
       "$\\displaystyle {\\left|000\\right\\rangle }$"
      ],
      "text/plain": [
       "❘000⟩"
      ]
     },
     "execution_count": 11,
     "metadata": {},
     "output_type": "execute_result"
    }
   ],
   "source": [
    "simplify( qapply( QFT_gate * input) )"
   ]
  },
  {
   "cell_type": "markdown",
   "metadata": {},
   "source": [
    "Phase Estimation Algorithm"
   ]
  },
  {
   "cell_type": "markdown",
   "metadata": {},
   "source": [
    "$4 \\times 4$ matrix U is constructed using T and S operations, and the eigenvalues of this matrix are calculated"
   ]
  },
  {
   "cell_type": "code",
   "execution_count": 12,
   "metadata": {},
   "outputs": [
    {
     "data": {
      "text/latex": [
       "$\\displaystyle \\left[\\begin{matrix}1 & 0 & 0 & 0\\\\0 & e^{\\frac{i \\pi}{4}} & 0 & 0\\\\0 & 0 & i & 0\\\\0 & 0 & 0 & i e^{\\frac{i \\pi}{4}}\\end{matrix}\\right]$"
      ],
      "text/plain": [
       "⎡1   0    0    0   ⎤\n",
       "⎢                  ⎥\n",
       "⎢    ⅈ⋅π           ⎥\n",
       "⎢    ───           ⎥\n",
       "⎢     4            ⎥\n",
       "⎢0  ℯ     0    0   ⎥\n",
       "⎢                  ⎥\n",
       "⎢0   0    ⅈ    0   ⎥\n",
       "⎢                  ⎥\n",
       "⎢               ⅈ⋅π⎥\n",
       "⎢               ───⎥\n",
       "⎢                4 ⎥\n",
       "⎣0   0    0  ⅈ⋅ℯ   ⎦"
      ]
     },
     "execution_count": 12,
     "metadata": {},
     "output_type": "execute_result"
    }
   ],
   "source": [
    "represent(T(0)*S(1),nqubits = 2)"
   ]
  },
  {
   "cell_type": "markdown",
   "metadata": {},
   "source": [
    "This matrix is already diagonalized, and the eigenvalue phases $\\lambda$ are 0, $\\pi/4$, $\\pi/2$, $3pi/4$, whose binary decimal representations are\n",
    "($2\\pi$)0.0, ($2\\pi$)0.001, ($2\\pi$)0.011. Therefore, three auxiliary qubits are needed to measure these without error.\n",
    "Using the CGateS function, let us define controlled U-gate cP_2,3,4. (2,3,4) correspond to the three auxiliary qubits. (0,1) are the spaces in which U acts. In the previous schematic of phase estimation, the bits are named 0,1,2,... from the bottom."
   ]
  },
  {
   "cell_type": "code",
   "execution_count": 13,
   "metadata": {},
   "outputs": [],
   "source": [
    "cP_2 = CGateS(2,T(0))*CGateS(2,S(1))\n",
    "cP_3 = CGateS(3,T(0))*CGateS(3,S(1))\n",
    "cP_4 = CGateS(4,T(0))*CGateS(4,S(1))"
   ]
  },
  {
   "cell_type": "markdown",
   "metadata": {},
   "source": [
    "Let us construct a phase estimation algorithm using three auxiliary qubits.\n",
    "First, Hadamard gate is applied to all auxiliary qubits."
   ]
  },
  {
   "cell_type": "markdown",
   "metadata": {},
   "source": []
  },
  {
   "cell_type": "code",
   "execution_count": 14,
   "metadata": {},
   "outputs": [
    {
     "data": {
      "text/latex": [
       "$\\displaystyle H_{4} H_{3} H_{2}$"
      ],
      "text/plain": [
       "H ⋅H ⋅H \n",
       " 4  3  2"
      ]
     },
     "execution_count": 14,
     "metadata": {},
     "output_type": "execute_result"
    }
   ],
   "source": [
    "PhaEst = H(4)*H(3)*H(2)\n",
    "PhaEst"
   ]
  },
  {
   "cell_type": "markdown",
   "metadata": {},
   "source": [
    "Next, apply the control unitary once, twice, and four times, respectively."
   ]
  },
  {
   "cell_type": "code",
   "execution_count": 15,
   "metadata": {},
   "outputs": [],
   "source": [
    "PhaEst = cP_2*cP_3*cP_3*cP_4*cP_4*cP_4*cP_4*PhaEst"
   ]
  },
  {
   "cell_type": "markdown",
   "metadata": {},
   "source": [
    "This completes the first half of the phase estimation algorithm. From here, the inverse quantum Fourier transform is constructed.\n",
    "First, for the third decimal place, we apply the H operation to the auxiliary qubit 4."
   ]
  },
  {
   "cell_type": "code",
   "execution_count": 16,
   "metadata": {},
   "outputs": [],
   "source": [
    "PhaEst = H(4)*PhaEst"
   ]
  },
  {
   "cell_type": "markdown",
   "metadata": {},
   "source": [
    "The auxiliary qubit 3 is first subjected to the control $R_2^+ = S^{-1} = SZ$ operation with auxiliary qubit 4 as the control."
   ]
  },
  {
   "cell_type": "code",
   "execution_count": 17,
   "metadata": {},
   "outputs": [],
   "source": [
    "PhaEst = CGateS(4,S(3))*PhaEst\n",
    "PhaEst = CGateS(4,Z(3))*PhaEst"
   ]
  },
  {
   "cell_type": "markdown",
   "metadata": {},
   "source": [
    "The H operation is then applied."
   ]
  },
  {
   "cell_type": "code",
   "execution_count": 18,
   "metadata": {},
   "outputs": [],
   "source": [
    "PhaEst = H(3)*PhaEst"
   ]
  },
  {
   "cell_type": "markdown",
   "metadata": {},
   "source": [
    "The three operations are applied to auxiliary qubit 2\n",
    "$R_2^+ = S^{-1} = SZ$ operation with auxiliary qubit 3 as control qubit\n",
    "$R_3^+ = TS^{-1} = TSZ$\n",
    "H operation"
   ]
  },
  {
   "cell_type": "code",
   "execution_count": 19,
   "metadata": {},
   "outputs": [],
   "source": [
    "PhaEst = CGateS(3,S(2))*PhaEst\n",
    "PhaEst = CGateS(3,Z(2))*PhaEst\n",
    "\n",
    "PhaEst = CGateS(4,T(2))*PhaEst\n",
    "PhaEst = CGateS(4,S(2))*PhaEst\n",
    "PhaEst = CGateS(4,Z(2))*PhaEst\n",
    "PhaEst = H(2)*PhaEst"
   ]
  },
  {
   "cell_type": "markdown",
   "metadata": {},
   "source": [
    "Let’s apply the phase estimation algorithm constructed in this way to the eigenvectors. The algorithm itself is very complex."
   ]
  },
  {
   "cell_type": "code",
   "execution_count": 20,
   "metadata": {},
   "outputs": [
    {
     "data": {
      "text/latex": [
       "$\\displaystyle H_{2} C_{4}{\\left(Z_{2}\\right)} C_{4}{\\left(S_{2}\\right)} C_{4}{\\left(T_{2}\\right)} C_{3}{\\left(Z_{2}\\right)} C_{3}{\\left(S_{2}\\right)} H_{3} C_{4}{\\left(Z_{3}\\right)} C_{4}{\\left(S_{3}\\right)} H_{4} C_{2}{\\left(T_{0}\\right)} C_{2}{\\left(S_{1}\\right)} C_{3}{\\left(T_{0}\\right)} C_{3}{\\left(S_{1}\\right)} C_{3}{\\left(T_{0}\\right)} C_{3}{\\left(S_{1}\\right)} C_{4}{\\left(T_{0}\\right)} C_{4}{\\left(S_{1}\\right)} C_{4}{\\left(T_{0}\\right)} C_{4}{\\left(S_{1}\\right)} C_{4}{\\left(T_{0}\\right)} C_{4}{\\left(S_{1}\\right)} C_{4}{\\left(T_{0}\\right)} C_{4}{\\left(S_{1}\\right)} H_{4} H_{3} H_{2}$"
      ],
      "text/plain": [
       "H ⋅C ⎛Z ⎞⋅C ⎛S ⎞⋅C ⎛T ⎞⋅C ⎛Z ⎞⋅C ⎛S ⎞⋅H ⋅C ⎛Z ⎞⋅C ⎛S ⎞⋅H ⋅C ⎛T ⎞⋅C ⎛S ⎞⋅C ⎛T ⎞\n",
       " 2  4⎝ 2⎠  4⎝ 2⎠  4⎝ 2⎠  3⎝ 2⎠  3⎝ 2⎠  3  4⎝ 3⎠  4⎝ 3⎠  4  2⎝ 0⎠  2⎝ 1⎠  3⎝ 0⎠\n",
       "\n",
       "⋅C ⎛S ⎞⋅C ⎛T ⎞⋅C ⎛S ⎞⋅C ⎛T ⎞⋅C ⎛S ⎞⋅C ⎛T ⎞⋅C ⎛S ⎞⋅C ⎛T ⎞⋅C ⎛S ⎞⋅C ⎛T ⎞⋅C ⎛S ⎞⋅\n",
       "  3⎝ 1⎠  3⎝ 0⎠  3⎝ 1⎠  4⎝ 0⎠  4⎝ 1⎠  4⎝ 0⎠  4⎝ 1⎠  4⎝ 0⎠  4⎝ 1⎠  4⎝ 0⎠  4⎝ 1⎠ \n",
       "\n",
       "H ⋅H ⋅H \n",
       " 4  3  2"
      ]
     },
     "execution_count": 20,
     "metadata": {},
     "output_type": "execute_result"
    }
   ],
   "source": [
    "PhaEst"
   ]
  },
  {
   "cell_type": "markdown",
   "metadata": {},
   "source": [
    "However, when the algorithm act on the input,"
   ]
  },
  {
   "cell_type": "code",
   "execution_count": 21,
   "metadata": {},
   "outputs": [
    {
     "data": {
      "text/latex": [
       "$\\displaystyle {\\left|11011\\right\\rangle }$"
      ],
      "text/plain": [
       "❘11011⟩"
      ]
     },
     "execution_count": 21,
     "metadata": {},
     "output_type": "execute_result"
    }
   ],
   "source": [
    "simplify(qapply(PhaEst*Qubit(\"00011\")))"
   ]
  },
  {
   "cell_type": "markdown",
   "metadata": {},
   "source": [
    "The output is simple as designed. The input $\\ket{\\phi} = \\ket{11}$, and the corresponding eigenvalue is $e^{i3\\pi /4}$. The auxiliary qubits 2,3,4 are 011, yielding the binary fraction representation of eigenvalue phase $\\lambda = 3\\pi /4$. \n",
    "For other inputs:"
   ]
  },
  {
   "cell_type": "code",
   "execution_count": 22,
   "metadata": {},
   "outputs": [
    {
     "data": {
      "text/latex": [
       "$\\displaystyle {\\left|00000\\right\\rangle }$"
      ],
      "text/plain": [
       "❘00000⟩"
      ]
     },
     "execution_count": 22,
     "metadata": {},
     "output_type": "execute_result"
    }
   ],
   "source": [
    "simplify(qapply(PhaEst*Qubit(\"00000\")))"
   ]
  },
  {
   "cell_type": "code",
   "execution_count": 23,
   "metadata": {},
   "outputs": [
    {
     "data": {
      "text/latex": [
       "$\\displaystyle {\\left|01010\\right\\rangle }$"
      ],
      "text/plain": [
       "❘01010⟩"
      ]
     },
     "execution_count": 23,
     "metadata": {},
     "output_type": "execute_result"
    }
   ],
   "source": [
    "simplify(qapply(PhaEst*Qubit(\"00010\")))"
   ]
  },
  {
   "cell_type": "code",
   "execution_count": 24,
   "metadata": {},
   "outputs": [
    {
     "data": {
      "text/latex": [
       "$\\displaystyle {\\left|10001\\right\\rangle }$"
      ],
      "text/plain": [
       "❘10001⟩"
      ]
     },
     "execution_count": 24,
     "metadata": {},
     "output_type": "execute_result"
    }
   ],
   "source": [
    "simplify(qapply(PhaEst*Qubit(\"00001\")))"
   ]
  },
  {
   "cell_type": "markdown",
   "metadata": {},
   "source": [
    "and it can be verified that the phase information of the four eigenvalues is obtained in the three auxiliary qubits. Also, if the input state is a superposition state,"
   ]
  },
  {
   "cell_type": "code",
   "execution_count": 25,
   "metadata": {},
   "outputs": [
    {
     "data": {
      "text/latex": [
       "$\\displaystyle \\frac{{\\left|00000\\right\\rangle } + {\\left|01010\\right\\rangle } + {\\left|10001\\right\\rangle } + {\\left|11011\\right\\rangle }}{2}$"
      ],
      "text/plain": [
       "❘00000⟩ + ❘01010⟩ + ❘10001⟩ + ❘11011⟩\n",
       "─────────────────────────────────────\n",
       "                  2                  "
      ]
     },
     "execution_count": 25,
     "metadata": {},
     "output_type": "execute_result"
    }
   ],
   "source": [
    "simplify(qapply(PhaEst*H(0)*H(1)*Qubit(\"00000\")))"
   ]
  },
  {
   "cell_type": "markdown",
   "metadata": {},
   "source": [
    "For each eigenvector, the phase of the eigenvalue is taken out into three auxiliary qubits as a superposition. Measuring the auxiliary qubits in this state yields any one eigenvector and eigenvalue probabilistically."
   ]
  },
  {
   "cell_type": "code",
   "execution_count": null,
   "metadata": {},
   "outputs": [],
   "source": []
  }
 ],
 "metadata": {
  "kernelspec": {
   "display_name": "quantum",
   "language": "python",
   "name": "python3"
  },
  "language_info": {
   "codemirror_mode": {
    "name": "ipython",
    "version": 3
   },
   "file_extension": ".py",
   "mimetype": "text/x-python",
   "name": "python",
   "nbconvert_exporter": "python",
   "pygments_lexer": "ipython3",
   "version": "3.11.9"
  }
 },
 "nbformat": 4,
 "nbformat_minor": 2
}
